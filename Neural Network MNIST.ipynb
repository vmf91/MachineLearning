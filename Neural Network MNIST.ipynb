{
 "cells": [
  {
   "cell_type": "markdown",
   "metadata": {},
   "source": [
    "# Neural Network - MNIST Classification\n"
   ]
  },
  {
   "cell_type": "markdown",
   "metadata": {},
   "source": [
    "### Import Libs"
   ]
  },
  {
   "cell_type": "code",
   "execution_count": 1,
   "metadata": {},
   "outputs": [
    {
     "name": "stderr",
     "output_type": "stream",
     "text": [
      "Using TensorFlow backend.\n"
     ]
    }
   ],
   "source": [
    "%matplotlib inline\n",
    "%config InlineBackend.figure_format = 'retina'\n",
    "\n",
    "import keras\n",
    "import tensorflow as tf\n",
    "import numpy as np\n",
    "import pandas as pd \n",
    "import matplotlib.pyplot as plt\n",
    "from sklearn.model_selection import train_test_split\n",
    "from sklearn.preprocessing import normalize\n",
    "from sklearn.metrics import confusion_matrix\n",
    "from keras.datasets import mnist"
   ]
  },
  {
   "cell_type": "markdown",
   "metadata": {},
   "source": [
    "### Define one hot encode function"
   ]
  },
  {
   "cell_type": "code",
   "execution_count": 2,
   "metadata": {},
   "outputs": [],
   "source": [
    "def one_hot_encode(x, num_classes):\n",
    "    one_hot = np.zeros([len(x), num_classes])\n",
    "    for i in enumerate(x):\n",
    "        one_hot[(i[0], i[1])] = 1\n",
    "    return one_hot"
   ]
  },
  {
   "cell_type": "markdown",
   "metadata": {},
   "source": [
    "### Read Data"
   ]
  },
  {
   "cell_type": "code",
   "execution_count": 3,
   "metadata": {},
   "outputs": [],
   "source": [
    "(train_X, train_y), (test_X, test_y) = mnist.load_data()"
   ]
  },
  {
   "cell_type": "code",
   "execution_count": 4,
   "metadata": {},
   "outputs": [
    {
     "data": {
      "text/plain": [
       "Text(0.5, 1.0, '2')"
      ]
     },
     "execution_count": 4,
     "metadata": {},
     "output_type": "execute_result"
    },
    {
     "data": {
      "image/png": "[encoded data removed]",
      "text/plain": [
       "<Figure size 432x288 with 1 Axes>"
      ]
     },
     "metadata": {
      "image/png": {
       "height": 263,
       "width": 251
      },
      "needs_background": "light"
     },
     "output_type": "display_data"
    }
   ],
   "source": [
    "plt.imshow(train_X[5], cmap=plt.get_cmap('gray'))\n",
    "plt.title(train_y[5])"
   ]
  },
  {
   "cell_type": "markdown",
   "metadata": {},
   "source": [
    "### Normalize data"
   ]
  },
  {
   "cell_type": "code",
   "execution_count": 5,
   "metadata": {},
   "outputs": [],
   "source": [
    "train_X = train_X.astype(np.float32)\n",
    "train_X /= 255.0\n",
    "\n",
    "test_X = test_X.astype(np.float32)\n",
    "test_X /= 255.0"
   ]
  },
  {
   "cell_type": "markdown",
   "metadata": {},
   "source": [
    "### Flatenize inputs"
   ]
  },
  {
   "cell_type": "code",
   "execution_count": 6,
   "metadata": {},
   "outputs": [],
   "source": [
    "train_X = train_X.reshape(train_X.shape[0], train_X.shape[1] * train_X.shape[2])\n",
    "test_X = test_X.reshape(test_X.shape[0], test_X.shape[1] * test_X.shape[2])"
   ]
  },
  {
   "cell_type": "markdown",
   "metadata": {},
   "source": [
    "### Encode outputs"
   ]
  },
  {
   "cell_type": "code",
   "execution_count": 7,
   "metadata": {},
   "outputs": [],
   "source": [
    "train_y = one_hot_encode(train_y, 10)\n",
    "test_y = one_hot_encode(test_y, 10)"
   ]
  },
  {
   "cell_type": "markdown",
   "metadata": {},
   "source": [
    "### Build Neural Network\n",
    "\n",
    "- Input layer size: train_X.shape[1]\n",
    "- First hidden layer size: 98\n",
    "- Dropout: 20%\n",
    "- Second hidden layer size: 49\n",
    "- Dropout: 20%\n",
    "- Adam Optimizer"
   ]
  },
  {
   "cell_type": "code",
   "execution_count": 8,
   "metadata": {},
   "outputs": [
    {
     "name": "stdout",
     "output_type": "stream",
     "text": [
      "Training the model...\n",
      "Epoch 0 | Batch 0 | Train Loss: 53012.85\n",
      "Epoch 10 | Batch 0 | Train Loss: 2574.9543\n",
      "Epoch 20 | Batch 0 | Train Loss: 1646.7465\n",
      "Epoch 30 | Batch 0 | Train Loss: 1239.7806\n",
      "Epoch 40 | Batch 0 | Train Loss: 986.79626\n",
      "Epoch 50 | Batch 0 | Train Loss: 804.6029\n",
      "Epoch 60 | Batch 0 | Train Loss: 665.3634\n",
      "Epoch 70 | Batch 0 | Train Loss: 559.58325\n",
      "Epoch 80 | Batch 0 | Train Loss: 482.3169\n",
      "Epoch 90 | Batch 0 | Train Loss: 414.89313\n",
      "Epoch 100 | Batch 0 | Train Loss: 359.9208\n",
      "Epoch 110 | Batch 0 | Train Loss: 313.6769\n",
      "Epoch 120 | Batch 0 | Train Loss: 272.8749\n",
      "Epoch 130 | Batch 0 | Train Loss: 245.70752\n",
      "Epoch 140 | Batch 0 | Train Loss: 219.76318\n",
      "Epoch 150 | Batch 0 | Train Loss: 193.34473\n",
      "Epoch 160 | Batch 0 | Train Loss: 173.32845\n",
      "Epoch 170 | Batch 0 | Train Loss: 156.10376\n",
      "Epoch 180 | Batch 0 | Train Loss: 144.54184\n",
      "Epoch 190 | Batch 0 | Train Loss: 126.07532\n",
      "Epoch 200 | Batch 0 | Train Loss: 116.25059\n",
      "Epoch 210 | Batch 0 | Train Loss: 103.23446\n",
      "Epoch 220 | Batch 0 | Train Loss: 95.67952\n",
      "Epoch 230 | Batch 0 | Train Loss: 87.045845\n",
      "Epoch 240 | Batch 0 | Train Loss: 79.902565\n",
      "Epoch 250 | Batch 0 | Train Loss: 73.015854\n",
      "Epoch 260 | Batch 0 | Train Loss: 65.603714\n",
      "Epoch 270 | Batch 0 | Train Loss: 60.146362\n",
      "Epoch 280 | Batch 0 | Train Loss: 55.975037\n",
      "Epoch 290 | Batch 0 | Train Loss: 51.68624\n"
     ]
    }
   ],
   "source": [
    "RANDOM_SEED = 42\n",
    "tf.set_random_seed(RANDOM_SEED)\n",
    "\n",
    "tf.reset_default_graph()\n",
    "\n",
    "learning_rate = 0.01\n",
    "epoch = 300\n",
    "interval = 10\n",
    "batch_size = 600\n",
    "n_batches = train_X.shape[0]//batch_size\n",
    "\n",
    "# Layer's sizes\n",
    "x_size = train_X.shape[1]   # Number of input nodes\n",
    "h_size = 98                 # Number of hidden nodes\n",
    "h_size2 = 98                # Number of hidden nodes\n",
    "h_size3 = 49                # Number of hidden nodes\n",
    "y_size = train_y.shape[1]   # Number of outcomes\n",
    "\n",
    "# Symbols\n",
    "X = tf.placeholder(tf.float32, shape=[None, x_size], name='X')\n",
    "y = tf.placeholder(tf.float32, shape=[None, y_size], name='y')\n",
    "rate = tf.placeholder(tf.float32)\n",
    "\n",
    "# Weight initializations\n",
    "w1 = tf.Variable(tf.random_normal(shape=(x_size, h_size)))\n",
    "b1 = tf.Variable(tf.random_normal(shape=[h_size]))\n",
    "w2 = tf.Variable(tf.random_normal(shape=(h_size, h_size2)))\n",
    "b2 = tf.Variable(tf.random_normal(shape=[h_size2]))\n",
    "w3 = tf.Variable(tf.random_normal(shape=(h_size2, h_size3)))\n",
    "b3 = tf.Variable(tf.random_normal(shape=[h_size3]))\n",
    "w4 = tf.Variable(tf.random_normal(shape=(h_size3, y_size)))\n",
    "b4 = tf.Variable(tf.random_normal(shape=[y_size]))\n",
    "\n",
    "# Operations\n",
    "hidden_output = tf.nn.sigmoid(tf.add(tf.matmul(X, w1), b1))\n",
    "dropout = tf.nn.dropout(hidden_output, rate=rate)\n",
    "hidden_output2 = tf.nn.sigmoid(tf.add(tf.matmul(dropout, w2), b2))\n",
    "dropout2 = tf.nn.dropout(hidden_output2, rate=rate)\n",
    "hidden_output3 = tf.nn.sigmoid(tf.add(tf.matmul(dropout, w3), b3))\n",
    "final_output = tf.nn.softmax(tf.add(tf.matmul(hidden_output3, w4), b4), name='final_output')\n",
    "\n",
    "# Cost Function\n",
    "loss = tf.reduce_mean(-tf.reduce_sum(y * tf.log(final_output), axis=0))\n",
    "\n",
    "# Optimizer\n",
    "optimizer = tf.train.AdamOptimizer().minimize(loss)\n",
    "\n",
    "# Add ops to save and restore all the variables.\n",
    "saver = tf.train.Saver()\n",
    "\n",
    "# Run SGD\n",
    "sess = tf.Session()\n",
    "init = tf.global_variables_initializer()\n",
    "sess.run(init)\n",
    "\n",
    "# Training\n",
    "print('Training the model...')\n",
    "losses = {'train':[], 'validation':[]}\n",
    "\n",
    "for e in range(epoch):\n",
    "    idxs = np.random.permutation(train_X.shape[0]) #shuffled ordering\n",
    "    random_X = train_X[idxs]\n",
    "    random_y = train_y[idxs]\n",
    "    for i in range(n_batches):\n",
    "        batch_X = random_X[i * batch_size:(i+1) * batch_size]\n",
    "        batch_y = random_y[i * batch_size:(i+1) * batch_size]\n",
    "        sess.run(optimizer,feed_dict = {X: batch_X, y:batch_y, rate:0.2})\n",
    "        \n",
    "        if e % interval == 0 and i == 0:\n",
    "            train_loss = sess.run(loss, feed_dict={X: train_X, y: train_y, rate:0})\n",
    "            print('Epoch', e, '|',\n",
    "                  'Batch', i, '|',\n",
    "                  'Train Loss:', train_loss)\n",
    "            losses['train'].append(train_loss)"
   ]
  },
  {
   "cell_type": "code",
   "execution_count": 9,
   "metadata": {},
   "outputs": [
    {
     "data": {
      "image/png": "[encoded data removed]",
      "text/plain": [
       "<Figure size 432x288 with 1 Axes>"
      ]
     },
     "metadata": {
      "image/png": {
       "height": 248,
       "width": 389
      },
      "needs_background": "light"
     },
     "output_type": "display_data"
    }
   ],
   "source": [
    "# Rede Neural 3 - Plot\n",
    "plt.plot(losses['train'], label='Training loss')\n",
    "plt.legend()\n",
    "_ = plt.ylim()"
   ]
  },
  {
   "cell_type": "code",
   "execution_count": 10,
   "metadata": {},
   "outputs": [
    {
     "name": "stdout",
     "output_type": "stream",
     "text": [
      "Accuracy: 0.9731\n",
      "Confusion Matrix:\n",
      "[[ 969    0    0    2    1    2    3    1    1    1]\n",
      " [   0 1124    1    4    0    1    2    0    3    0]\n",
      " [   7    1  998    8    3    1    1    8    4    1]\n",
      " [   0    0    1  993    1    5    0    4    3    3]\n",
      " [   0    0    2    1  956    0    5    4    2   12]\n",
      " [   3    0    0   11    1  865    5    2    3    2]\n",
      " [   6    3    1    0    3    8  936    0    1    0]\n",
      " [   2    3    9    7    1    0    0  998    1    7]\n",
      " [   4    2    4   11    8    6    3    7  926    3]\n",
      " [   2    3    0    6   14   10    1    6    1  966]]\n"
     ]
    }
   ],
   "source": [
    "success = 0\n",
    "results = {'actual':[], 'predicted':[]}\n",
    "for i in range(len(test_X)):\n",
    "    predicted = sess.run(final_output, feed_dict={X: [test_X[i]], rate:0})\n",
    "    results['actual'].append(np.argmax(test_y[i]))\n",
    "    results['predicted'].append(np.argmax(predicted))\n",
    "    if np.argmax(test_y[i]) == np.argmax(predicted):\n",
    "        success += 1\n",
    "    #print('Actual:', test_y[i], 'Predicted:', np.rint(predicted))\n",
    "\n",
    "print('Accuracy:', success/len(test_X))\n",
    "\n",
    "print('Confusion Matrix:')\n",
    "print(confusion_matrix(results['actual'], results['predicted']))"
   ]
  }
 ],
 "metadata": {
  "kernelspec": {
   "display_name": "Python 3",
   "language": "python",
   "name": "python3"
  },
  "language_info": {
   "codemirror_mode": {
    "name": "ipython",
    "version": 3
   },
   "file_extension": ".py",
   "mimetype": "text/x-python",
   "name": "python",
   "nbconvert_exporter": "python",
   "pygments_lexer": "ipython3",
   "version": "3.6.7"
  }
 },
 "nbformat": 4,
 "nbformat_minor": 2
}
